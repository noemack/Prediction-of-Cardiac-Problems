{
  "metadata": {
    "kernelspec": {
      "name": "python",
      "display_name": "Python (Pyodide)",
      "language": "python"
    },
    "language_info": {
      "codemirror_mode": {
        "name": "python",
        "version": 3
      },
      "file_extension": ".py",
      "mimetype": "text/x-python",
      "name": "python",
      "nbconvert_exporter": "python",
      "pygments_lexer": "ipython3",
      "version": "3.8"
    },
    "colab": {
      "provenance": []
    }
  },
  "nbformat_minor": 0,
  "nbformat": 4,
  "cells": [
    {
      "cell_type": "markdown",
      "source": [
        "<div class=\"markdown-google-sans\">\n",
        "\n",
        "## PCP: Prediction of Cardiac Problems\n",
        "</div>\n",
        "\n",
        "aiUTEChallenge ML – Aprendizaje Supervisado\n",
        "    \n",
        "\n",
        "<div class=\"markdown-google-sans\">\n",
        "\n",
        "## Objetivo\n",
        "</div>\n",
        "\n",
        "\n",
        "Se deberá completar la columna EnfermedadCorazon del archivo df_data.CSV para cada registro categorizando en si es probable o no que desarrolle enfermedad al igual que como se tiene en el dataset de entrenamiento.\n",
        "\n",
        "* Explorar e identificar las características relevantes para predecir la columna EnfermedadCorazon\n",
        "\n",
        "* Comprender los datos:\n",
        "\n",
        "  1. **Edad**: edad del paciente ✴ `[años]`\n",
        "  2. **Sexo**: sexo del paciente ✴ `[M: Masculino, F: Femenino]`\n",
        "  3. **TipoDolorPecho**: tipo de dolor de pecho ✴ `[TA: Angina Típica, ATA: Angina Atípica, NAP: Dolor No Anginoso, ASY: Asintomático]`\n",
        "  4. **PresionRep**: presión arterial en reposo ✴ `[mm Hg]`\n",
        "  5. **Colesterol**: colesterol sérico ✴ `[mm/dl]`\n",
        "  6. **GlucosaEnAyunas**: glucosa en sangre en ayunas ✴ `[1: si GlucosaEnAyunas > 120 mg/dl, 0: de lo contrario]`\n",
        "  7. **ECGRep**: resultados del electrocardiograma en reposo ✴ `[Normal: Normal, ST: con anormalidad en la onda ST-T (inversiones de la onda T y/o elevación o depresión del ST > 0.05 mV), LVH: mostrando probable o definitiva hipertrofia ventricular izquierda según los criterios de Estes]`\n",
        "  8. **FCMaxima**: frecuencia cardíaca máxima alcanzada ✴ `[Valor numérico entre 60 y 202]`\n",
        "  9. **AnginaEjercicio**: angina inducida por ejercicio ✴ `[Y: Sí, N: No]`\n",
        "  10. **DescensoST**: depresión antigua = ST ✴ `[Valor numérico medido en depresión]`\n",
        "  11. **PendienteST**: la pendiente del segmento ST durante el ejercicio máximo ✴ `[Up: Ascendente, Flat: Plano, Down: Descendente]`\n",
        "  12. **EnfermedadCardiaca**: clase de salida ✴ `[1: enfermedad cardíaca, 0: Normal]`\n",
        "\n",
        "  Ref. **punto 7**: Criterios de Romhilt-Estes para la hipertrofia del ventrículo izquierdo\n",
        "\n",
        "\n"
      ],
      "metadata": {
        "id": "N-aT0eCekJ1X"
      }
    },
    {
      "cell_type": "markdown",
      "source": [
        "<div class=\"markdown-google-sans\">\n",
        "\n",
        "## Contenido\n",
        "</div>\n",
        "\n",
        "<div class=\"alert alert-block alert-info\" style=\"margin-top: 20px\">\n",
        "<ol>\n",
        "    <li><a href=\"#Importación_datos\">Importación de los datos</a></li>\n",
        "    <li><a href=\"#Exploración_procesamiento\">Exploración y procesamiento de los datos</a></li>\n",
        "    <li><a href=\"#Análisis_patrones\">Análisis de patrones de características individuales mediante visualización</a></li>\n",
        "    <li><a href=\"#Desarrollo_modelos\">Desarrollo de Modelos</a></li>\n",
        "    <li><a href=\"#Evaluación_modelo\">Evaluación del Modelo y predicciones</a></li>\n",
        "</ol>\n",
        "\n",
        "</div>\n",
        "\n",
        "<hr>\n"
      ],
      "metadata": {
        "id": "x4c_AieVkJ1a"
      }
    },
    {
      "cell_type": "markdown",
      "source": [
        "<div class=\"markdown-google-sans\">\n",
        "\n",
        "## Importación de los datos\n",
        "</div>\n"
      ],
      "metadata": {
        "id": "yTwhhWe8kJ1b"
      }
    },
    {
      "cell_type": "markdown",
      "source": [
        "Librerías:\n"
      ],
      "metadata": {
        "id": "ti_Gn7phkJ1c"
      }
    },
    {
      "cell_type": "code",
      "source": [
        "#install specific version of libraries used in lab\n",
        "#! mamba install pandas==1.3.3\n",
        "#! mamba install numpy=1.21.2\n",
        "#! mamba install scipy=1.7.1-y\n",
        "#! mamba install seaborn=0.9.0-y\n",
        "#! mamba install seaborn=0.9.0-y"
      ],
      "metadata": {
        "id": "nMbAY2UekJ1c"
      },
      "execution_count": null,
      "outputs": []
    },
    {
      "cell_type": "code",
      "source": [
        "import pandas as pd\n",
        "import numpy as npz"
      ],
      "metadata": {
        "trusted": true,
        "id": "61ILTQzskJ1d"
      },
      "execution_count": null,
      "outputs": []
    },
    {
      "cell_type": "markdown",
      "source": [
        "Cargar y explorar el conjunto de datos \"df_data.csv\". Dataset: `df`:\n"
      ],
      "metadata": {
        "id": "LixLghhLkJ1d"
      }
    },
    {
      "cell_type": "code",
      "source": [
        "from google.colab import drive\n",
        "drive.mount('/content/drive')"
      ],
      "metadata": {
        "colab": {
          "base_uri": "https://localhost:8080/"
        },
        "id": "vpqxTouGOC70",
        "outputId": "cbe84e04-5d1e-4955-c9e2-b3c37929a449"
      },
      "execution_count": null,
      "outputs": [
        {
          "output_type": "stream",
          "name": "stdout",
          "text": [
            "Mounted at /content/drive\n"
          ]
        }
      ]
    },
    {
      "cell_type": "code",
      "source": [
        "# seleccionar la ruta del dataset \"df_data.csv\"\n",
        "path='.../df_data.csv'\n",
        "df = pd.read_csv(path)\n",
        "df.head()"
      ],
      "metadata": {
        "trusted": true,
        "id": "6zRsVf7NkJ1e"
      },
      "execution_count": null,
      "outputs": []
    },
    {
      "cell_type": "markdown",
      "source": [
        "<div class=\"markdown-google-sans\">\n",
        "\n",
        "## 2. Exploración y procesamiento de los datos:\n",
        "</div>\n",
        "\n",
        "* Procesamiento de los Datos\n",
        "* Manejo de valores faltantes\n",
        "* Manejo de valores atípicos\n",
        "* Codificación de variables categóricas\n",
        "* Identificación de las características relevantes para la solución del problema\n"
      ],
      "metadata": {
        "id": "EAm72ye7lJl9"
      }
    },
    {
      "cell_type": "code",
      "source": [
        "# ver el conjunto de datos\n",
        "df.head(10)"
      ],
      "metadata": {
        "id": "iTMuQ6Vk9TwT"
      },
      "execution_count": null,
      "outputs": []
    },
    {
      "cell_type": "code",
      "source": [
        "# identificar valores faltantes\n",
        "df.isnull().values.any()"
      ],
      "metadata": {
        "id": "FDjTHpdK9lAu"
      },
      "execution_count": null,
      "outputs": []
    },
    {
      "cell_type": "code",
      "source": [
        "print(df.isnull().sum())"
      ],
      "metadata": {
        "id": "JVnm7oIn31_E"
      },
      "execution_count": null,
      "outputs": []
    },
    {
      "cell_type": "code",
      "source": [
        "missing_data = df.isnull()\n",
        "missing_data.head(5)"
      ],
      "metadata": {
        "id": "bzdwwnLqcuDl"
      },
      "execution_count": null,
      "outputs": []
    },
    {
      "cell_type": "code",
      "source": [
        "# contar valores faltantes\n",
        "for column in missing_data.columns.values.tolist():\n",
        "    print(column)\n",
        "    print (missing_data[column].value_counts())\n",
        "    print(\"\")"
      ],
      "metadata": {
        "id": "1DHvl9pdbmVO"
      },
      "execution_count": null,
      "outputs": []
    },
    {
      "cell_type": "code",
      "source": [
        "# valores únicos para cada columna\n",
        "df.nunique()"
      ],
      "metadata": {
        "id": "syPnDknk-LkL"
      },
      "execution_count": null,
      "outputs": []
    },
    {
      "cell_type": "code",
      "source": [
        "# información general del dataset\n",
        "print(' - Cantidad de Filas y columnas:', df.shape, '\\n')\n",
        "print(' - Nombre de las columnas:',df.columns, '\\n')\n",
        "print(' - Información sobre el dataset:', '\\n')\n",
        "df.info()"
      ],
      "metadata": {
        "id": "7r7JmIku_YzL"
      },
      "execution_count": null,
      "outputs": []
    },
    {
      "cell_type": "code",
      "source": [
        "# búsqueda de entradas de datos (object)\n",
        "for x in df.columns:\n",
        "    if df[x].dtype == 'object':\n",
        "        print(\"Nombre de columna:\", x)\n",
        "        print(df[x].value_counts())\n",
        "        print(\"-------------------------\")"
      ],
      "metadata": {
        "id": "m5yhYesz-ecz"
      },
      "execution_count": null,
      "outputs": []
    },
    {
      "cell_type": "code",
      "source": [
        "# buscar duplicados\n",
        "df.duplicated().value_counts"
      ],
      "metadata": {
        "id": "k6SlrXXm_4r8"
      },
      "execution_count": null,
      "outputs": []
    },
    {
      "cell_type": "markdown",
      "source": [
        "Según las *exploraciones* anteriores el dataframe no tiene datos faltantes ni datos duplicados"
      ],
      "metadata": {
        "id": "67GnDXrheYFB"
      }
    },
    {
      "cell_type": "code",
      "source": [
        "# tipos de datos por columna\n",
        "print(df.dtypes)\n",
        "df.head(5)"
      ],
      "metadata": {
        "id": "R5beX0vakJ1f"
      },
      "execution_count": null,
      "outputs": []
    },
    {
      "cell_type": "code",
      "source": [
        "# contar tipos de datos\n",
        "numericos = df.select_dtypes(include=['int', 'float']).shape[1]\n",
        "objetos = df.select_dtypes(include='object').shape[1]\n",
        "print(f\"Número de columnas numéricas: {numericos}\")\n",
        "print(f\"Número de columnas de tipo objeto: {objetos}\")"
      ],
      "metadata": {
        "id": "KeRg5E-_isR0"
      },
      "execution_count": null,
      "outputs": []
    },
    {
      "cell_type": "code",
      "source": [
        "print(\"\\nResumen estadístico:\")\n",
        "print(df.describe())"
      ],
      "metadata": {
        "id": "IyAmrPIcbCTC"
      },
      "execution_count": null,
      "outputs": []
    },
    {
      "cell_type": "code",
      "source": [
        "print(\"\\nResumen estadístico categóricas:\")\n",
        "print(df.describe(include=['object']))"
      ],
      "metadata": {
        "id": "Kh7GtE-BxTF2"
      },
      "execution_count": null,
      "outputs": []
    },
    {
      "cell_type": "code",
      "source": [
        "# variable indicadora (One-Hot Encoding), conversión de variable Sexo en formato numérico:\n",
        "dummy_variable_1 = pd.get_dummies(df[\"Sexo\"])\n",
        "dummy_variable_1.head()"
      ],
      "metadata": {
        "id": "1RSgxhnErVS8"
      },
      "execution_count": null,
      "outputs": []
    },
    {
      "cell_type": "code",
      "source": [
        "# cambiar nombre de las columnas\n",
        "dummy_variable_1.rename(columns={'F':'Femenino', 'M':'Masculino'}, inplace=True)\n",
        "dummy_variable_1.head()"
      ],
      "metadata": {
        "id": "psvjbSE-sG6W"
      },
      "execution_count": null,
      "outputs": []
    },
    {
      "cell_type": "code",
      "source": [
        "# unir data frame \"df\" y \"dummy_variable_1\"\n",
        "df = pd.concat([df, dummy_variable_1], axis=1)\n",
        "\n",
        "# eliminar columna original \"Sexo\" del dataframe\n",
        "df.drop('Sexo', axis = 1, inplace=True)\n",
        "df.head()"
      ],
      "metadata": {
        "id": "nxcW6BC-tin3"
      },
      "execution_count": null,
      "outputs": []
    },
    {
      "cell_type": "code",
      "source": [
        "# conversión de variable AnginaEjercicio en formato numérico:\n",
        "dummy_variable_2 = pd.get_dummies(df[\"AnginaEjercicio\"])\n",
        "dummy_variable_2.head()"
      ],
      "metadata": {
        "id": "mbfV6cozzJRC"
      },
      "execution_count": null,
      "outputs": []
    },
    {
      "cell_type": "code",
      "source": [
        "# cambiar nombre de las columnas\n",
        "dummy_variable_2.rename(columns={'N':'AnginaEjercicio_No', 'Y':'AnginaEjercicio_Si'}, inplace=True)\n",
        "dummy_variable_2.head()"
      ],
      "metadata": {
        "id": "GHJHqLeDzaBY"
      },
      "execution_count": null,
      "outputs": []
    },
    {
      "cell_type": "code",
      "source": [
        "# unir data frame \"df\" y \"dummy_variable_2\"\n",
        "df = pd.concat([df, dummy_variable_2], axis=1)\n",
        "\n",
        "# eliminar columna original \"AnginaEjercicio\" del dataframe\n",
        "df.drop('AnginaEjercicio', axis = 1, inplace=True)\n",
        "df.head()"
      ],
      "metadata": {
        "id": "HYmnLKp2zo_N"
      },
      "execution_count": null,
      "outputs": []
    },
    {
      "cell_type": "code",
      "source": [
        "# normalización: Escalar las columnas PresionRep, Colesterol, FCMaxima y DescensoST\n",
        "df['PresionRep'] = df['PresionRep']/df['PresionRep'].max()\n",
        "df['Colesterol'] = df['Colesterol']/df['Colesterol'].max()\n",
        "df['FCMaxima'] = df['FCMaxima']/df['FCMaxima'].max()\n",
        "df['DescensoST'] = df['DescensoST']/df['DescensoST'].max()\n",
        "df.head(10)"
      ],
      "metadata": {
        "id": "ctupo1OTHZyv"
      },
      "execution_count": null,
      "outputs": []
    },
    {
      "cell_type": "code",
      "source": [
        "# tipos de datos por columna\n",
        "print(df.dtypes)\n",
        "df.head(5)"
      ],
      "metadata": {
        "id": "RPJSJSzKO92r"
      },
      "execution_count": null,
      "outputs": []
    },
    {
      "cell_type": "code",
      "source": [
        "# conversión a de variables uint8 a int64\n",
        "df[[\"Femenino\", \"Masculino\", \"AnginaEjercicio_No\", \"AnginaEjercicio_Si\"]] = df[[\"Femenino\", \"Masculino\", \"AnginaEjercicio_No\", \"AnginaEjercicio_Si\"]].astype(\"int\")\n",
        "print(df.dtypes)"
      ],
      "metadata": {
        "id": "bSYKaEnfPOA7"
      },
      "execution_count": null,
      "outputs": []
    },
    {
      "cell_type": "markdown",
      "source": [
        "<div class=\"markdown-google-sans\">\n",
        "\n",
        "## 3. Análisis de patrones de características individuales mediante visualización\n",
        "</div>"
      ],
      "metadata": {
        "id": "AceNM6eykJ1e"
      }
    },
    {
      "cell_type": "code",
      "source": [
        "# importación de librerías para graficar\n",
        "import matplotlib.pyplot as plt\n",
        "import seaborn as sns\n",
        "%matplotlib inline\n",
        "import plotly.express as px\n",
        "import plotly.graph_objs as go"
      ],
      "metadata": {
        "id": "2bWeN2bBostK"
      },
      "execution_count": null,
      "outputs": []
    },
    {
      "cell_type": "code",
      "source": [
        "# gráfico de distribución para cada variable numérica\n",
        "\n",
        "fig, axes = plt.subplots(nrows=4, ncols=3, figsize=(12, 7))\n",
        "axes = axes.flat\n",
        "columnas_numeric = df.select_dtypes(include=['float64', 'int64']).columns\n",
        "columnas_numeric = columnas_numeric.drop('EnfermedadCorazon')\n",
        "\n",
        "for i, colum in enumerate(columnas_numeric):\n",
        "    sns.histplot(\n",
        "        data     = df,\n",
        "        x        = colum,\n",
        "        stat     = \"count\",\n",
        "        kde      = True,\n",
        "        color    = (list(plt.rcParams['axes.prop_cycle'])*2)[i][\"color\"],\n",
        "        line_kws = {'linewidth': 2},\n",
        "        alpha    = 0.3,\n",
        "        ax       = axes[i]\n",
        "    )\n",
        "    axes[i].set_title(colum, fontsize = 7, fontweight = \"bold\")\n",
        "    axes[i].tick_params(labelsize = 6)\n",
        "    axes[i].set_xlabel(\"\")\n",
        "\n",
        "# Se eliminan los axes vacíos\n",
        "for i in [10, 11]:\n",
        "  fig.delaxes(axes[i])\n",
        "\n",
        "\n",
        "fig.tight_layout()\n",
        "plt.subplots_adjust(top = 0.9)\n",
        "fig.suptitle('Distribución variables numéricas', fontsize = 10, fontweight = \"bold\");"
      ],
      "metadata": {
        "id": "MoZpp_sk4_y-"
      },
      "execution_count": null,
      "outputs": []
    },
    {
      "cell_type": "code",
      "source": [
        "# gráfico para cada variable cualitativa\n",
        "\n",
        "fig, axes = plt.subplots(nrows=1, ncols=3, figsize=(12, 4))\n",
        "axes = axes.flat\n",
        "columnas_object = df.select_dtypes(include=['object']).columns\n",
        "\n",
        "for i, colum in enumerate(columnas_object):\n",
        "    df[colum].value_counts().plot.barh(ax = axes[i])\n",
        "    axes[i].set_title(colum, fontsize = 7, fontweight = \"bold\")\n",
        "    axes[i].tick_params(labelsize = 6)\n",
        "    axes[i].set_xlabel(\"\")\n",
        "\n",
        "fig.tight_layout()\n",
        "plt.subplots_adjust(top=0.9)\n",
        "fig.suptitle('Distribución variables cualitativas',fontsize = 10, fontweight = \"bold\");"
      ],
      "metadata": {
        "id": "HW7fuufs9YoR"
      },
      "execution_count": null,
      "outputs": []
    },
    {
      "cell_type": "code",
      "source": [
        "# tabla de frecuencia relativa de variable TipoDolorPecho\n",
        "100 * df[\"TipoDolorPecho\"].value_counts() / len(df[\"TipoDolorPecho\"])"
      ],
      "metadata": {
        "id": "hyyRZ3HjiOzV"
      },
      "execution_count": null,
      "outputs": []
    },
    {
      "cell_type": "code",
      "source": [
        "# tabla de contingencia TipoDolorPecho / EnfermedadCorazon\n",
        "pd.crosstab(index=df['EnfermedadCorazon'],\n",
        "            columns=df['TipoDolorPecho'], margins=True)"
      ],
      "metadata": {
        "id": "SoMGJw6Bjbs4"
      },
      "execution_count": null,
      "outputs": []
    },
    {
      "cell_type": "code",
      "source": [
        "# tabla de contingencia en porcentajes relativos total\n",
        "pd.crosstab(index=df['EnfermedadCorazon'],\n",
        "            columns=df['TipoDolorPecho'],\n",
        "            margins=True).apply(lambda r: r/len(df) *100, axis=1)"
      ],
      "metadata": {
        "id": "-W1QaaVzkTLi"
      },
      "execution_count": null,
      "outputs": []
    },
    {
      "cell_type": "code",
      "source": [
        "# tabla de frecuencia relativa de variable ECGRep\n",
        "100 * df[\"ECGRep\"].value_counts() / len(df[\"ECGRep\"])"
      ],
      "metadata": {
        "id": "StpRCT5Xk4Ik"
      },
      "execution_count": null,
      "outputs": []
    },
    {
      "cell_type": "code",
      "source": [
        "# tabla de contingencia ECGRep / EnfermedadCorazon\n",
        "pd.crosstab(index=df['EnfermedadCorazon'],\n",
        "            columns=df['ECGRep'], margins=True)"
      ],
      "metadata": {
        "id": "tz0R2nmblMyx"
      },
      "execution_count": null,
      "outputs": []
    },
    {
      "cell_type": "code",
      "source": [
        "# tabla de contingencia en porcentajes relativos total\n",
        "pd.crosstab(index=df['EnfermedadCorazon'],\n",
        "            columns=df['ECGRep'],\n",
        "            margins=True).apply(lambda r: r/len(df) *100, axis=1)"
      ],
      "metadata": {
        "id": "P8R2vavLlXPr"
      },
      "execution_count": null,
      "outputs": []
    },
    {
      "cell_type": "code",
      "source": [
        "# tabla de frecuencia relativa de variable ECGRep\n",
        "100 * df[\"PendienteST\"].value_counts() / len(df[\"PendienteST\"])"
      ],
      "metadata": {
        "id": "3Nr0yWb3lrGy"
      },
      "execution_count": null,
      "outputs": []
    },
    {
      "cell_type": "code",
      "source": [
        "# tabla de contingencia PendienteST / EnfermedadCorazon\n",
        "pd.crosstab(index=df['EnfermedadCorazon'],\n",
        "            columns=df['PendienteST'], margins=True)"
      ],
      "metadata": {
        "id": "r4oENeLElzqY"
      },
      "execution_count": null,
      "outputs": []
    },
    {
      "cell_type": "code",
      "source": [
        "# tabla de contingencia en porcentajes relativos total\n",
        "pd.crosstab(index=df['EnfermedadCorazon'],\n",
        "            columns=df['PendienteST'],\n",
        "            margins=True).apply(lambda r: r/len(df) *100, axis=1)"
      ],
      "metadata": {
        "id": "FCCm4U5xl8fH"
      },
      "execution_count": null,
      "outputs": []
    },
    {
      "cell_type": "markdown",
      "source": [
        "<p>Gráfico de dispersión para visualizar la consentración de cada una de las características seleccionadas con la variable objetivo.</p>\n"
      ],
      "metadata": {
        "id": "phuLvQAVkJ1f"
      }
    },
    {
      "cell_type": "code",
      "source": [
        "# gráfico variables numéricas y variable objetivo\n",
        "variables = [\"Edad\", \"PresionRep\",\"Colesterol\", \"FCMaxima\",\"EnfermedadCorazon\", \"DescensoST\"]\n",
        "sns.pairplot(df[variables], height=3, diag_kind= \"kde\", hue=\"EnfermedadCorazon\")"
      ],
      "metadata": {
        "id": "54bIMTHgLck-"
      },
      "execution_count": null,
      "outputs": []
    },
    {
      "cell_type": "code",
      "source": [
        "# tabla de frecuencia relativa de variable EnfermedadCorazon\n",
        "100 * df[\"EnfermedadCorazon\"].value_counts() / len(df[\"EnfermedadCorazon\"])"
      ],
      "metadata": {
        "id": "B6v16hxx4dXM"
      },
      "execution_count": null,
      "outputs": []
    },
    {
      "cell_type": "code",
      "source": [
        "# codificar las variables categoricas\n",
        "from sklearn.preprocessing import LabelEncoder\n",
        "le = LabelEncoder()\n",
        "df[\"TipoDolorPecho_CAT\"] = le.fit_transform(df[\"TipoDolorPecho\"])\n",
        "df[\"ECGRep_CAT\"] = le.fit_transform(df[\"ECGRep\"])\n",
        "df[\"PendienteST_CAT\"] = le.fit_transform(df[\"PendienteST\"])\n",
        "df.head()"
      ],
      "metadata": {
        "id": "ArlxFB6yof7_"
      },
      "execution_count": null,
      "outputs": []
    },
    {
      "cell_type": "code",
      "source": [
        "# eliminar las columnas originales del dataframe\n",
        "df.drop('TipoDolorPecho', axis = 1, inplace=True)\n",
        "df.drop('ECGRep', axis = 1, inplace=True)\n",
        "df.drop('PendienteST', axis = 1, inplace=True)\n",
        "df.head()"
      ],
      "metadata": {
        "id": "bbXQsEocqXfb"
      },
      "execution_count": null,
      "outputs": []
    },
    {
      "cell_type": "markdown",
      "source": [
        "Correlación entre las variables de tipo\n",
        "\"int64\" o \"float64\":\n"
      ],
      "metadata": {
        "id": "DL9Qf5qKkJ1f"
      }
    },
    {
      "cell_type": "code",
      "source": [
        "# visualizar la correlación entre las variables de tipo \"int64\" o \"float64\":\n",
        "df.corr()"
      ],
      "metadata": {
        "id": "jtkn90pNkJ1f"
      },
      "execution_count": null,
      "outputs": []
    },
    {
      "cell_type": "code",
      "source": [
        "# matriz de correlación:\n",
        "corrmat = df.corr()\n",
        "f, ax = plt.subplots(figsize=(12, 9))\n",
        "sns.heatmap(corrmat, vmax=.8, square=True, annot=True);"
      ],
      "metadata": {
        "id": "NvuaUu8uDCgk"
      },
      "execution_count": null,
      "outputs": []
    },
    {
      "cell_type": "code",
      "source": [
        "# correlaciones por orden\n",
        "corr = df.corr()\n",
        "corr[['EnfermedadCorazon']].sort_values(by = 'EnfermedadCorazon',ascending = False)\\\n",
        ".style.background_gradient()"
      ],
      "metadata": {
        "id": "tqSg-OiGE7yX"
      },
      "execution_count": null,
      "outputs": []
    },
    {
      "cell_type": "code",
      "source": [
        "# importacion libreria scipy\n",
        "from scipy import stats"
      ],
      "metadata": {
        "id": "I6PiKaQqAT5Y"
      },
      "execution_count": null,
      "outputs": []
    },
    {
      "cell_type": "code",
      "source": [
        "# coeficiente Pearson - valor de P\n",
        "pearson_coef, p_value = stats.pearsonr(df['Edad'], df['EnfermedadCorazon'])\n",
        "print(\"El coeficiente de Pearson es\", pearson_coef, \" con un valor de P =\", p_value)"
      ],
      "metadata": {
        "id": "PSQrxU0sAY4L"
      },
      "execution_count": null,
      "outputs": []
    },
    {
      "cell_type": "code",
      "source": [
        "pearson_coef, p_value = stats.pearsonr(df['AnginaEjercicio_Si'], df['EnfermedadCorazon'])\n",
        "print(\"El coeficiente de Pearson es\", pearson_coef, \" con un valor de P =\", p_value)"
      ],
      "metadata": {
        "id": "3FK-C1nKA6jr"
      },
      "execution_count": null,
      "outputs": []
    },
    {
      "cell_type": "code",
      "source": [
        "pearson_coef, p_value = stats.pearsonr(df['FCMaxima'], df['EnfermedadCorazon'])\n",
        "print(\"El coeficiente de Pearson es\", pearson_coef, \" con un valor de P =\", p_value)"
      ],
      "metadata": {
        "id": "fn9-O-283Viy"
      },
      "execution_count": null,
      "outputs": []
    },
    {
      "cell_type": "code",
      "source": [
        "pearson_coef, p_value = stats.pearsonr(df['PendienteST_CAT'], df['EnfermedadCorazon'])\n",
        "print(\"El coeficiente de Pearson es\", pearson_coef, \" con un valor de P =\", p_value)"
      ],
      "metadata": {
        "id": "Zu5lCZlgs_yi"
      },
      "execution_count": null,
      "outputs": []
    },
    {
      "cell_type": "code",
      "source": [
        "# evaluamos a través de un gráfico si la edad aumenta la probabilidad de enfermedad al corazón\n",
        "sns.histplot(data=df[df['EnfermedadCorazon'] == 0], x='Edad', kde=True, color='blue', label='Sin enfermedad')\n",
        "sns.histplot(data=df[df['EnfermedadCorazon'] == 1], x='Edad', kde=True, color='red', label='Con enfermedad')\n",
        "plt.title('Edad como probabilidad de enfermedad al corazón')\n",
        "plt.xlabel('Edad')\n",
        "plt.ylabel('Cantidad(Frecuencia)')\n",
        "plt.legend()\n",
        "plt.show()"
      ],
      "metadata": {
        "id": "rh4QemhPDreE"
      },
      "execution_count": null,
      "outputs": []
    },
    {
      "cell_type": "code",
      "source": [
        "# evaluamos a través de un gráfico si la variable colesterol aumenta la probabilidad de enfermedad al corazón\n",
        "sns.histplot(data=df[df['EnfermedadCorazon'] == 0], x='Colesterol', kde=True, color='blue', label='Sin enfermedad')\n",
        "sns.histplot(data=df[df['EnfermedadCorazon'] == 1], x='Colesterol', kde=True, color='red', label='Con enfermedad')\n",
        "plt.title('Colesterol como probabilidad de enfermedad al corazón')\n",
        "plt.xlabel('Colesterol')\n",
        "plt.ylabel('Cantidad(Frecuencia)')\n",
        "plt.legend()\n",
        "plt.show()"
      ],
      "metadata": {
        "id": "V1PFwOMRG_XT"
      },
      "execution_count": null,
      "outputs": []
    },
    {
      "cell_type": "code",
      "source": [
        "# analizamos las variables Edad y GlucosaEnAyunas, Sin efermedad o Con enfermedad\n",
        "# import plotly.express as px\n",
        "fig =px.violin(df, y=\"Edad\", x=\"GlucosaEnAyunas\",color=\"EnfermedadCorazon\",box= True, points=\"all\",hover_data= df.columns)\n",
        "fig.update_layout(title_text = \"Analisis Edad y GlucosaEnAyunas - Sin efermedad o Con enfermedad\")\n",
        "fig.show()"
      ],
      "metadata": {
        "id": "owubw3ofnpSb"
      },
      "execution_count": null,
      "outputs": []
    },
    {
      "cell_type": "code",
      "source": [
        "# import plotly.graph_objs as go\n",
        "\n",
        "# personas que tienen o no tienen GlucosaEnAyunas\n",
        "con_GlucosaEnAyunas = df[df['GlucosaEnAyunas']==1]\n",
        "sin_GlucosaEnAyunas = df[df['GlucosaEnAyunas']==0]\n",
        "\n",
        "labels = ['Con GlucosaEnAyunas','Sin GlucosaEnAyunas']\n",
        "values = [len(con_GlucosaEnAyunas), len(sin_GlucosaEnAyunas)]\n",
        "\n",
        "fig = go.Figure(data=[go.Pie(labels=labels, values=values, hole=.4)])\n",
        "fig.update_layout(\n",
        "    title_text=\"Con GlucosaEnAyunas - Sin GlucosaEnAyunas\",\n",
        "    autosize=False,\n",
        "    width=600,\n",
        "    height=300,\n",
        ")\n",
        "\n",
        "fig.show()\n",
        "\n",
        "# eventos de enfermedad al corazón por GlucosaEnAyunas\n",
        "fig = px.pie(df, values='GlucosaEnAyunas',names='EnfermedadCorazon', title='Eventos de enfermedad al corazón por GlucosaEnAyunas')\n",
        "fig.update_layout(\n",
        "    autosize=False,\n",
        "    width=600,\n",
        "    height=300,\n",
        ")\n",
        "\n",
        "fig.show()"
      ],
      "metadata": {
        "id": "Vhz3qvI8uIXa"
      },
      "execution_count": null,
      "outputs": []
    },
    {
      "cell_type": "code",
      "source": [
        "# visualizando nuevemente el df\n",
        "df.head(25)"
      ],
      "metadata": {
        "id": "-J6HuDFVReZY"
      },
      "execution_count": null,
      "outputs": []
    },
    {
      "cell_type": "markdown",
      "source": [
        "<div class=\"markdown-google-sans\">\n",
        "\n",
        "## 4. Desarrollo de Modelos\n",
        "</div>"
      ],
      "metadata": {
        "id": "t_bf6G-SYdZX"
      }
    },
    {
      "cell_type": "markdown",
      "source": [
        "Probando Regresión Lineal"
      ],
      "metadata": {
        "id": "2FT2G1VEbOEf"
      }
    },
    {
      "cell_type": "code",
      "source": [
        "# definimos x , y\n",
        "y_data = df['EnfermedadCorazon']"
      ],
      "metadata": {
        "id": "L96YvOFBTRiT"
      },
      "execution_count": null,
      "outputs": []
    },
    {
      "cell_type": "code",
      "source": [
        "x_data=df.drop('EnfermedadCorazon',axis=1)"
      ],
      "metadata": {
        "id": "78tQHAmDTTyC"
      },
      "execution_count": null,
      "outputs": []
    },
    {
      "cell_type": "code",
      "source": [
        "# dividimos  el conjunto de datos de modo que el 20% de las muestras de datos se utilicen para las pruebas\n",
        "from sklearn.model_selection import train_test_split\n",
        "\n",
        "x_train, x_test, y_train, y_test = train_test_split(x_data, y_data, test_size=0.20, random_state=1)\n",
        "\n",
        "print(\"number of test samples :\", x_test.shape[0])\n",
        "print(\"number of training samples:\",x_train.shape[0])"
      ],
      "metadata": {
        "id": "i_GFHlTjRkQE"
      },
      "execution_count": null,
      "outputs": []
    },
    {
      "cell_type": "code",
      "source": [
        "# importar LinearRegression\n",
        "from sklearn.linear_model import LinearRegression"
      ],
      "metadata": {
        "id": "hCG_tvwxUIxR"
      },
      "execution_count": null,
      "outputs": []
    },
    {
      "cell_type": "code",
      "source": [
        "# creamos el objeto de regresión lineal\n",
        "lre=LinearRegression()"
      ],
      "metadata": {
        "id": "cBbwb03oT_17"
      },
      "execution_count": null,
      "outputs": []
    },
    {
      "cell_type": "code",
      "source": [
        "# ajustamos el modelo utilizando AnginaEjercicio_Si\n",
        "lre.fit(x_train[['AnginaEjercicio_Si']], y_train)"
      ],
      "metadata": {
        "id": "y8YSwGIlUYtb"
      },
      "execution_count": null,
      "outputs": []
    },
    {
      "cell_type": "code",
      "source": [
        "# calculamos el R^2 en los datos de prueba\n",
        "lre.score(x_test[['AnginaEjercicio_Si']], y_test)"
      ],
      "metadata": {
        "id": "cElkvuVpVETr"
      },
      "execution_count": null,
      "outputs": []
    },
    {
      "cell_type": "code",
      "source": [
        "# el R ^ 2 es más pequeño usando los datos de prueba en comparación con los datos de entrenamiento.\n",
        "lre.score(x_train[['AnginaEjercicio_Si']], y_train)"
      ],
      "metadata": {
        "id": "tAOtZzKYa-UE"
      },
      "execution_count": null,
      "outputs": []
    },
    {
      "cell_type": "code",
      "source": [
        "# probamos el R^2 en los datos de prueba utilizando el 30% del conjunto de datos para realizar pruebas.\n",
        "x_train1, x_test1, y_train1, y_test1 = train_test_split(x_data, y_data, test_size=0.30, random_state=0)\n",
        "lre.fit(x_train1[['AnginaEjercicio_Si']],y_train1)\n",
        "lre.score(x_test1[['AnginaEjercicio_Si']],y_test1)"
      ],
      "metadata": {
        "id": "8KFPDgfzb42k"
      },
      "execution_count": null,
      "outputs": []
    },
    {
      "cell_type": "markdown",
      "source": [
        "Probando Regresión Logística"
      ],
      "metadata": {
        "id": "QQLUmHejbYGg"
      }
    },
    {
      "cell_type": "code",
      "source": [
        "# creamos otro dataframe para probar\n",
        "df1=df"
      ],
      "metadata": {
        "id": "cYr_dbRVe5tE"
      },
      "execution_count": null,
      "outputs": []
    },
    {
      "cell_type": "code",
      "source": [
        "# definimos x , y\n",
        "y_data1 = df1['EnfermedadCorazon']"
      ],
      "metadata": {
        "id": "5cfRpAJNfa6k"
      },
      "execution_count": null,
      "outputs": []
    },
    {
      "cell_type": "code",
      "source": [
        "x_data1=df1.drop('EnfermedadCorazon',axis=1)"
      ],
      "metadata": {
        "id": "-K3tIFWrfnkD"
      },
      "execution_count": null,
      "outputs": []
    },
    {
      "cell_type": "code",
      "source": [
        "# dividimos el conjunto de datos de manera que el 20% de las muestras de datos se utilicen para las pruebas\n",
        "from sklearn.model_selection import train_test_split\n",
        "\n",
        "x_train2, x_test2, y_train2, y_test2 = train_test_split(x_data1, y_data1, test_size=0.20, random_state=1)\n",
        "\n",
        "print(\"number of test samples :\", x_test.shape[0])\n",
        "print(\"number of training samples:\",x_train.shape[0])"
      ],
      "metadata": {
        "id": "FeLZ4l9DdejU"
      },
      "execution_count": null,
      "outputs": []
    },
    {
      "cell_type": "code",
      "source": [
        "# importar LogisticRegression\n",
        "from sklearn.linear_model import LogisticRegression"
      ],
      "metadata": {
        "id": "VquQkNHlctQk"
      },
      "execution_count": null,
      "outputs": []
    },
    {
      "cell_type": "code",
      "source": [
        "# creamos el objeto de regresión\n",
        "mlreg =LogisticRegression()"
      ],
      "metadata": {
        "id": "K4zAldVlc3xU"
      },
      "execution_count": null,
      "outputs": []
    },
    {
      "cell_type": "code",
      "source": [
        "# ajustamos el modelo\n",
        "mlreg.fit(x_train2, y_train2)"
      ],
      "metadata": {
        "id": "A81QdcdYdqDT"
      },
      "execution_count": null,
      "outputs": []
    },
    {
      "cell_type": "code",
      "source": [
        "# predicciones\n",
        "y_test_pred = mlreg.predict(x_test2)"
      ],
      "metadata": {
        "id": "szL-A2Pyfwlx"
      },
      "execution_count": null,
      "outputs": []
    },
    {
      "cell_type": "code",
      "source": [
        "# exactitud del modelo\n",
        "occuracy = mlreg.score(x_test2, y_test2)\n",
        "print(\"Exactitud: \", occuracy)"
      ],
      "metadata": {
        "id": "oQiUtw_Yf5aD"
      },
      "execution_count": null,
      "outputs": []
    },
    {
      "cell_type": "code",
      "source": [
        "# precisión del modelo\n",
        "from sklearn.metrics import precision_score\n",
        "pre =precision_score(y_test2, y_test_pred)\n",
        "print(\"Precisión: \", pre)"
      ],
      "metadata": {
        "id": "C-SCpDt_k2E2"
      },
      "execution_count": null,
      "outputs": []
    },
    {
      "cell_type": "code",
      "source": [
        "# sensibilidad del modelo\n",
        "from sklearn.metrics import recall_score\n",
        "sens = recall_score(y_test2, y_test_pred)\n",
        "print(\"Sensibilidad: \", sens)"
      ],
      "metadata": {
        "id": "y5S4whZoojKj"
      },
      "execution_count": null,
      "outputs": []
    },
    {
      "cell_type": "code",
      "source": [
        "# puntaje del modelo\n",
        "from sklearn.metrics import f1_score\n",
        "puntaje = f1_score(y_test2, y_test_pred)\n",
        "print(\"Puntaje: \", puntaje)"
      ],
      "metadata": {
        "id": "rA8fzD43pFST"
      },
      "execution_count": null,
      "outputs": []
    },
    {
      "cell_type": "code",
      "source": [
        "# evaluación del modelo con matriz de confusión\n",
        "from sklearn.metrics import confusion_matrix\n",
        "print(confusion_matrix(y_test2, y_test_pred))"
      ],
      "metadata": {
        "id": "TvBRmgBzj0Us"
      },
      "execution_count": null,
      "outputs": []
    },
    {
      "cell_type": "markdown",
      "source": [
        "Valores obtenidos en la matríz es de: 252 predichos correctos y 42 incorrectos"
      ],
      "metadata": {
        "id": "WD2bUPFJk2q7"
      }
    },
    {
      "cell_type": "markdown",
      "source": [
        "Probando el algoritmo SVM"
      ],
      "metadata": {
        "id": "WN-o3WAyieP7"
      }
    },
    {
      "cell_type": "code",
      "source": [
        "# creamos un df con todas las variables\n",
        "df2=df"
      ],
      "metadata": {
        "id": "EjkjChUBjNzb"
      },
      "execution_count": null,
      "outputs": []
    },
    {
      "cell_type": "code",
      "source": [
        "# definimos x , y\n",
        "y_data3 = df2['EnfermedadCorazon']"
      ],
      "metadata": {
        "id": "TU_EShcBjRAj"
      },
      "execution_count": null,
      "outputs": []
    },
    {
      "cell_type": "code",
      "source": [
        "x_data3=df2.drop('EnfermedadCorazon',axis=1)"
      ],
      "metadata": {
        "id": "KwoSp-1RjfYa"
      },
      "execution_count": null,
      "outputs": []
    },
    {
      "cell_type": "code",
      "source": [
        "# dividimos el conjunto de datos de manera que el 20% de las muestras de datos se utilicen para las pruebas\n",
        "from sklearn.model_selection import train_test_split\n",
        "\n",
        "x_train3, x_test3, y_train3, y_test3 = train_test_split(x_data3, y_data3, test_size=0.20, random_state=1)\n",
        "\n",
        "print(\"number of test samples :\", x_test.shape[0])\n",
        "print(\"number of training samples:\",x_train.shape[0])"
      ],
      "metadata": {
        "id": "tShixK8mjmiK"
      },
      "execution_count": null,
      "outputs": []
    },
    {
      "cell_type": "code",
      "source": [
        "# importar SVM\n",
        "from sklearn import svm"
      ],
      "metadata": {
        "id": "FeAHyftmi4Kj"
      },
      "execution_count": null,
      "outputs": []
    },
    {
      "cell_type": "code",
      "source": [
        "# creamos el objeto de regresión\n",
        "algoritmo = svm.SVC(kernel=\"linear\")"
      ],
      "metadata": {
        "id": "IOZYW586lNkz"
      },
      "execution_count": null,
      "outputs": []
    },
    {
      "cell_type": "code",
      "source": [
        "# entrenamos el algoritmo\n",
        "algoritmo.fit(x_train3, y_train3)"
      ],
      "metadata": {
        "id": "hFOVJImMllYq"
      },
      "execution_count": null,
      "outputs": []
    },
    {
      "cell_type": "code",
      "source": [
        "# predicciones\n",
        "y_test_pred3 = algoritmo.predict(x_test3)"
      ],
      "metadata": {
        "id": "pKoi8Df-vgLi"
      },
      "execution_count": null,
      "outputs": []
    },
    {
      "cell_type": "code",
      "source": [
        "# exactitud del modelo\n",
        "occuracy_svc = mlreg.score(x_test3, y_test3)\n",
        "print(\"Exactitud: \", occuracy_svc)"
      ],
      "metadata": {
        "id": "O4CMkHZwvrRS"
      },
      "execution_count": null,
      "outputs": []
    },
    {
      "cell_type": "code",
      "source": [
        "# precisión del modelo\n",
        "from sklearn.metrics import precision_score\n",
        "pre_svc =precision_score(y_test3, y_test_pred3)\n",
        "print(\"Precisión: \", pre_svc)"
      ],
      "metadata": {
        "id": "Zspys2wEv6zC"
      },
      "execution_count": null,
      "outputs": []
    },
    {
      "cell_type": "code",
      "source": [
        "# sensibilidad del modelo\n",
        "from sklearn.metrics import recall_score\n",
        "sens_svc = recall_score(y_test3, y_test_pred3)\n",
        "print(\"Sensibilidad: \", sens_svc)"
      ],
      "metadata": {
        "id": "z6X4K02RwgpL"
      },
      "execution_count": null,
      "outputs": []
    },
    {
      "cell_type": "code",
      "source": [
        "# puntaje del modelo\n",
        "from sklearn.metrics import f1_score\n",
        "puntaje_svc = f1_score(y_test3, y_test_pred3)\n",
        "print(\"Puntaje: \", puntaje_svc)"
      ],
      "metadata": {
        "id": "TTfr_JQSw-jB"
      },
      "execution_count": null,
      "outputs": []
    },
    {
      "cell_type": "code",
      "source": [
        "# evaluación del modelo con matriz de confusión\n",
        "from sklearn.metrics import confusion_matrix\n",
        "print(confusion_matrix(y_test3, y_test_pred3))"
      ],
      "metadata": {
        "id": "4ECjXQvRxPe4"
      },
      "execution_count": null,
      "outputs": []
    },
    {
      "cell_type": "markdown",
      "source": [
        "Valores obtenidos en la matríz es de: 260 predichos correctos y 34 incorrectos"
      ],
      "metadata": {
        "id": "FqYHZ5r8xfV8"
      }
    },
    {
      "cell_type": "markdown",
      "source": [
        "<div class=\"markdown-google-sans\">\n",
        "\n",
        "## 5. Evaluación del Modelo y predicciones\n",
        "</div>"
      ],
      "metadata": {
        "id": "sTJ6oN6M_ep9"
      }
    },
    {
      "cell_type": "code",
      "source": [
        "# calculamos el MSE par evaluar el modelo\n",
        "from sklearn.metrics import mean_squared_error\n",
        "\n",
        "mse = mean_squared_error(y_test2, y_test_pred)\n",
        "print(\"Error Cuadrático Medio (MSE):\", mse)"
      ],
      "metadata": {
        "id": "AMcckMYDAHFt"
      },
      "execution_count": null,
      "outputs": []
    },
    {
      "cell_type": "code",
      "source": [
        "# importamos el dataset de evaluación\n",
        "p='/content/drive/MyDrive/Colab Notebooks/st_verify_data.csv'\n",
        "st_verify_data = pd.read_csv(p)\n",
        "st_verify_data.head()"
      ],
      "metadata": {
        "id": "aOafu7etJCV8"
      },
      "execution_count": null,
      "outputs": []
    },
    {
      "cell_type": "code",
      "source": [
        "# verificamos dataset\n",
        "print(' - Cantidad de Filas y columnas:', st_verify_data.shape, '\\n')"
      ],
      "metadata": {
        "id": "xshHsuVLPaV9"
      },
      "execution_count": null,
      "outputs": []
    },
    {
      "cell_type": "code",
      "source": [
        "# creamos el df_st_verify_data (dataset de evaluación) con las mismas variables\n",
        "df_st_verify_data = st_verify_data\n",
        "df_st_verify_data.head()"
      ],
      "metadata": {
        "id": "O_OOWeZkKo0U"
      },
      "execution_count": null,
      "outputs": []
    },
    {
      "cell_type": "code",
      "source": [
        "# verificamos dataset\n",
        "print(' - Cantidad de Filas y columnas:', df_st_verify_data.shape, '\\n')"
      ],
      "metadata": {
        "id": "6CMmnjIjRO41"
      },
      "execution_count": null,
      "outputs": []
    },
    {
      "cell_type": "markdown",
      "source": [
        "Procesamos las columnas del dataframe \"df_st_verify_data\" igual que con con las columnas de dataframe \"df_data.csv\""
      ],
      "metadata": {
        "id": "hAHmOOeiR5pl"
      }
    },
    {
      "cell_type": "code",
      "source": [
        "# variable indicadora (One-Hot Encoding), conversión de variable Sexo en formato numérico:\n",
        "dummy_variable_3 = pd.get_dummies(df_st_verify_data[\"Sexo\"])\n",
        "dummy_variable_3.head()"
      ],
      "metadata": {
        "id": "jMjsPWaIQFow"
      },
      "execution_count": null,
      "outputs": []
    },
    {
      "cell_type": "code",
      "source": [
        "# cambiar nombre de las columnas\n",
        "dummy_variable_3.rename(columns={'F':'Femenino', 'M':'Masculino'}, inplace=True)\n",
        "dummy_variable_3.head()"
      ],
      "metadata": {
        "id": "zQMltRZnRZhV"
      },
      "execution_count": null,
      "outputs": []
    },
    {
      "cell_type": "code",
      "source": [
        "# unir data frame \"df_st_verify_data\" y \"dummy_variable_3\"\n",
        "df_st_verify_data = pd.concat([df_st_verify_data, dummy_variable_3], axis=1)\n",
        "\n",
        "# eliminar columna original \"Sexo\" del dataframe\n",
        "df_st_verify_data.drop('Sexo', axis = 1, inplace=True)\n",
        "df_st_verify_data.head()"
      ],
      "metadata": {
        "id": "JfgVhdzIS2jF"
      },
      "execution_count": null,
      "outputs": []
    },
    {
      "cell_type": "code",
      "source": [
        "# conversión de variable AnginaEjercicio en formato numérico:\n",
        "dummy_variable_4 = pd.get_dummies(df_st_verify_data[\"AnginaEjercicio\"])\n",
        "dummy_variable_4.head()"
      ],
      "metadata": {
        "id": "MiyzyFPrTRrt"
      },
      "execution_count": null,
      "outputs": []
    },
    {
      "cell_type": "code",
      "source": [
        "# cambiar nombre de las columnas\n",
        "dummy_variable_4.rename(columns={'N':'AnginaEjercicio_No', 'Y':'AnginaEjercicio_Si'}, inplace=True)\n",
        "dummy_variable_4.head()"
      ],
      "metadata": {
        "id": "a-P1uuIATi1M"
      },
      "execution_count": null,
      "outputs": []
    },
    {
      "cell_type": "code",
      "source": [
        "# unir data frame \"df_st_verify_data\" y \"dummy_variable_4\"\n",
        "df_st_verify_data = pd.concat([df_st_verify_data, dummy_variable_4], axis=1)\n",
        "\n",
        "# eliminar columna original \"AnginaEjercicio\" del dataframe\n",
        "df_st_verify_data.drop('AnginaEjercicio', axis = 1, inplace=True)\n",
        "df_st_verify_data.head()"
      ],
      "metadata": {
        "id": "Awj9cttETwB0"
      },
      "execution_count": null,
      "outputs": []
    },
    {
      "cell_type": "code",
      "source": [
        "# normalización: Escalar las columnas PresionRep, Colesterol, FCMaxima y DescensoST\n",
        "df_st_verify_data['PresionRep'] = df_st_verify_data['PresionRep']/df_st_verify_data['PresionRep'].max()\n",
        "df_st_verify_data['Colesterol'] = df_st_verify_data['Colesterol']/df_st_verify_data['Colesterol'].max()\n",
        "df_st_verify_data['FCMaxima'] = df_st_verify_data['FCMaxima']/df_st_verify_data['FCMaxima'].max()\n",
        "df_st_verify_data['DescensoST'] = df_st_verify_data['DescensoST']/df_st_verify_data['DescensoST'].max()\n",
        "df_st_verify_data.head(10)"
      ],
      "metadata": {
        "id": "gO4bFRFOULDs"
      },
      "execution_count": null,
      "outputs": []
    },
    {
      "cell_type": "code",
      "source": [
        "# codificar las variables categoricas\n",
        "from sklearn.preprocessing import LabelEncoder\n",
        "le = LabelEncoder()\n",
        "df_st_verify_data[\"TipoDolorPecho_CAT\"] = le.fit_transform(df_st_verify_data[\"TipoDolorPecho\"])\n",
        "df_st_verify_data[\"ECGRep_CAT\"] = le.fit_transform(df_st_verify_data[\"ECGRep\"])\n",
        "df_st_verify_data[\"PendienteST_CAT\"] = le.fit_transform(df_st_verify_data[\"PendienteST\"])\n",
        "df_st_verify_data.head()"
      ],
      "metadata": {
        "id": "Sdex0r5gtsnq"
      },
      "execution_count": null,
      "outputs": []
    },
    {
      "cell_type": "code",
      "source": [
        "# eliminar las columnas originales del dataframe\n",
        "df_st_verify_data.drop('TipoDolorPecho', axis = 1, inplace=True)\n",
        "df_st_verify_data.drop('ECGRep', axis = 1, inplace=True)\n",
        "df_st_verify_data.drop('PendienteST', axis = 1, inplace=True)\n",
        "df_st_verify_data.head()"
      ],
      "metadata": {
        "id": "IcQBi01St3oh"
      },
      "execution_count": null,
      "outputs": []
    },
    {
      "cell_type": "code",
      "source": [
        "# verificamos dataset\n",
        "print(' - Cantidad de Filas y columnas:', df_st_verify_data.shape, '\\n')"
      ],
      "metadata": {
        "id": "ZH4OiqnvUaYp"
      },
      "execution_count": null,
      "outputs": []
    },
    {
      "cell_type": "code",
      "source": [
        "# identificar valores faltantes\n",
        "df_st_verify_data.isnull().values.any()"
      ],
      "metadata": {
        "id": "irxdDJgUUm56"
      },
      "execution_count": null,
      "outputs": []
    },
    {
      "cell_type": "code",
      "source": [
        "print(df.isnull().sum())"
      ],
      "metadata": {
        "id": "t06Awct3Uuea"
      },
      "execution_count": null,
      "outputs": []
    },
    {
      "cell_type": "code",
      "source": [
        "# realizamos las predicciones sobre el conjunto objetivo, se elije el modelo \"algoritmo SVM\"\n",
        "conjunto_objetivo = df_st_verify_data\n",
        "predicciones = algoritmo.predict(conjunto_objetivo)"
      ],
      "metadata": {
        "id": "vhtl57x9EnTl"
      },
      "execution_count": null,
      "outputs": []
    },
    {
      "cell_type": "code",
      "source": [
        "# se descarga el archivo con las predicciones\n",
        "nombre_csv = \"pcp_respuestas_NoeliaMackinnon.csv\"\n",
        "\n",
        "# se agrega columna 'EnfermedadCorazon'\n",
        "df_st_verify_data['EnfermedadCorazon']= predicciones\n",
        "\n",
        "# pasar a csv\n",
        "dfnm = df_st_verify_data.to_csv(nombre_csv, index=False)\n",
        "\n",
        "# descargar archivo\n",
        "from google.colab import files\n",
        "files.download(nombre_csv)"
      ],
      "metadata": {
        "id": "_BQNBD_SLmAt"
      },
      "execution_count": null,
      "outputs": []
    },
    {
      "cell_type": "markdown",
      "source": [
        "<div class=\"markdown-google-sans\">\n",
        "\n",
        "## Realizado por\n",
        "</div>\n",
        "\n",
        "<a href=\"https://uy.linkedin.com/in/noelia-mackinnon\" target=\"_blank\">Noelia Mackinnon</a>\n"
      ],
      "metadata": {
        "id": "QH_lLhPFQHBP"
      }
    }
  ]
}